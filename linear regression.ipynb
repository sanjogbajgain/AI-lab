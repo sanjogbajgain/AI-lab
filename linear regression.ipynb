{
 "cells": [
  {
   "cell_type": "code",
   "execution_count": 1,
   "id": "fb764340-6b70-4d4b-ac96-425f03747689",
   "metadata": {},
   "outputs": [
    {
     "name": "stdout",
     "output_type": "stream",
     "text": [
      "Correlation Coefficient (r): 0.8463670653459558\n",
      "Intercept (a): 43.43023255813955\n",
      "Slope (b): 38.72093023255814\n",
      "Predicted Y for X = 15 : 624.2441860465117\n"
     ]
    }
   ],
   "source": [
    "import numpy as np\n",
    "\n",
    "dataX = np.array([6, 12, 14, 6, 9, 13, 15, 9])\n",
    "dataY = np.array([300, 400, 560, 250, 290, 650, 630, 520])\n",
    "X = 15\n",
    "\n",
    "dataXAvg = np.mean(dataX)\n",
    "dataYAvg = np.mean(dataY)\n",
    "\n",
    "x = dataX - dataXAvg\n",
    "y = dataY - dataYAvg\n",
    "\n",
    "xy = x * y\n",
    "xSqr = x ** 2\n",
    "ySqr = y ** 2\n",
    "\n",
    "sumxy = np.sum(xy)\n",
    "sumxSqr = np.sum(xSqr)\n",
    "sumySqr = np.sum(ySqr)\n",
    "\n",
    "rCoefficient = sumxy / np.sqrt(sumxSqr * sumySqr)\n",
    "\n",
    "b = sumxy / sumxSqr\n",
    "a = dataYAvg - b * dataXAvg\n",
    "\n",
    "Y = a + b * X\n",
    "\n",
    "print(\"Correlation Coefficient (r):\", rCoefficient)\n",
    "print(\"Intercept (a):\", a)\n",
    "print(\"Slope (b):\", b)\n",
    "print(\"Predicted Y for X =\", X, \":\", Y)"
   ]
  },
  {
   "cell_type": "code",
   "execution_count": null,
   "id": "9e856a8a-c730-44d4-8a6c-9c6f3526c72f",
   "metadata": {},
   "outputs": [],
   "source": []
  }
 ],
 "metadata": {
  "kernelspec": {
   "display_name": "Python 3 (ipykernel)",
   "language": "python",
   "name": "python3"
  },
  "language_info": {
   "codemirror_mode": {
    "name": "ipython",
    "version": 3
   },
   "file_extension": ".py",
   "mimetype": "text/x-python",
   "name": "python",
   "nbconvert_exporter": "python",
   "pygments_lexer": "ipython3",
   "version": "3.11.7"
  }
 },
 "nbformat": 4,
 "nbformat_minor": 5
}
