{
 "cells": [
  {
   "cell_type": "code",
   "execution_count": 1,
   "id": "47fbc318-1d80-4c80-ac56-7eccb4c355aa",
   "metadata": {},
   "outputs": [
    {
     "name": "stdout",
     "output_type": "stream",
     "text": [
      "Solution found:\n",
      "Step 1: move_to_box\n",
      "Step 2: push_box_to_banana\n",
      "Step 3: climb_box\n",
      "Step 4: grab_banana\n"
     ]
    }
   ],
   "source": [
    "# Define the initial state and goal state\n",
    "initial_state = {\n",
    "    \"monkey_position\": \"floor\",  # Monkey is on the floor\n",
    "    \"box_position\": \"center\",    # Box is in the center of the room\n",
    "    \"monkey_on_box\": False,       # Monkey is not on the box\n",
    "    \"banana_grabbed\": False       # Monkey has not grabbed the banana\n",
    "}\n",
    "\n",
    "goal_state = {\n",
    "    \"banana_grabbed\": True        # Goal is to grab the banana\n",
    "}\n",
    "\n",
    "# Define actions\n",
    "actions = [\n",
    "    \"move_to_box\",       # Monkey moves to the box\n",
    "    \"push_box_to_banana\",# Push the box under the banana\n",
    "    \"climb_box\",         # Climb onto the box\n",
    "    \"grab_banana\"        # Grab the banana\n",
    "]\n",
    "\n",
    "# Define a function to check if the goal state is reached\n",
    "def is_goal(state):\n",
    "    return state[\"banana_grabbed\"]\n",
    "\n",
    "# Define the transition function\n",
    "def transition(state, action):\n",
    "    new_state = state.copy()\n",
    "\n",
    "    if action == \"move_to_box\" and state[\"monkey_position\"] == \"floor\":\n",
    "        new_state[\"monkey_position\"] = \"near_box\"\n",
    "\n",
    "    elif action == \"push_box_to_banana\" and state[\"monkey_position\"] == \"near_box\":\n",
    "        new_state[\"box_position\"] = \"under_banana\"\n",
    "\n",
    "    elif action == \"climb_box\" and state[\"monkey_position\"] == \"near_box\" and state[\"box_position\"] == \"under_banana\":\n",
    "        new_state[\"monkey_on_box\"] = True\n",
    "        new_state[\"monkey_position\"] = \"on_box\"\n",
    "\n",
    "    elif action == \"grab_banana\" and state[\"monkey_on_box\"] and state[\"box_position\"] == \"under_banana\":\n",
    "        new_state[\"banana_grabbed\"] = True\n",
    "\n",
    "    return new_state\n",
    "\n",
    "# Search function to solve the problem\n",
    "def solve(initial_state, goal_state):\n",
    "    from collections import deque\n",
    "\n",
    "    queue = deque([(initial_state, [])])  # Queue to store states and their action paths\n",
    "\n",
    "    while queue:\n",
    "        current_state, path = queue.popleft()\n",
    "\n",
    "        if is_goal(current_state):\n",
    "            return path\n",
    "\n",
    "        for action in actions:\n",
    "            new_state = transition(current_state, action)\n",
    "            if new_state != current_state:  # Avoid adding invalid transitions\n",
    "                queue.append((new_state, path + [action]))\n",
    "\n",
    "    return None\n",
    "\n",
    "# Solve the problem and display the output\n",
    "solution = solve(initial_state, goal_state)\n",
    "\n",
    "# Output the solution\n",
    "if solution:\n",
    "    print(\"Solution found:\")\n",
    "    for step, action in enumerate(solution, 1):\n",
    "        print(f\"Step {step}: {action}\")\n",
    "else:\n",
    "    print(\"No solution found.\")\n"
   ]
  },
  {
   "cell_type": "code",
   "execution_count": null,
   "id": "c7a72858-a215-4753-a868-11756386d871",
   "metadata": {},
   "outputs": [],
   "source": []
  }
 ],
 "metadata": {
  "kernelspec": {
   "display_name": "Python 3 (ipykernel)",
   "language": "python",
   "name": "python3"
  },
  "language_info": {
   "codemirror_mode": {
    "name": "ipython",
    "version": 3
   },
   "file_extension": ".py",
   "mimetype": "text/x-python",
   "name": "python",
   "nbconvert_exporter": "python",
   "pygments_lexer": "ipython3",
   "version": "3.11.7"
  }
 },
 "nbformat": 4,
 "nbformat_minor": 5
}
