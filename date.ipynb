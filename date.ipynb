{
 "cells": [
  {
   "cell_type": "code",
   "execution_count": 1,
   "id": "6d2fd599-5b7a-436b-a0ed-ccdcf1c92949",
   "metadata": {},
   "outputs": [
    {
     "name": "stdout",
     "output_type": "stream",
     "text": [
      "Today's date: 2025-01-23\n",
      "Days until birthday: -32\n",
      "12 hours from today: 2025-01-23\n",
      "Time object: 09:30:45.100000\n",
      "Datetime with UTC timezone: 2016-07-24 12:30:45+00:00\n",
      "Current UTC time (using now): 2025-01-23 05:21:39.167249+00:00\n",
      "Current UTC time (using utcnow): 2025-01-23 05:21:39.167249+00:00\n",
      "UTC to Mountain Time: 2025-01-22 22:21:39.167249-07:00\n",
      "Localized Mountain Time: 2025-01-23 11:06:39.680392-07:00\n",
      "Mountain to Eastern Time: 2025-01-23 13:06:39.680392-05:00\n",
      "Formatted date: January 23, 2025\n",
      "Parsed datetime from string: 2016-07-24 00:00:00\n"
     ]
    }
   ],
   "source": [
    "import datetime\n",
    "import pytz\n",
    "\n",
    "# --- Working with Dates ---\n",
    "tday = datetime.date.today()\n",
    "print(f\"Today's date: {tday}\")\n",
    "\n",
    "# Days until a specific date (e.g., Birthday)\n",
    "bday = datetime.date(2024, 12, 22)\n",
    "till_bday = bday - tday\n",
    "print(f\"Days until birthday: {till_bday.days}\")\n",
    "\n",
    "# --- Working with Timedeltas ---\n",
    "tdelta = datetime.timedelta(hours=12)\n",
    "print(f\"12 hours from today: {tday + tdelta}\")  # Note: Adding hours to a date object doesn't make sense\n",
    "\n",
    "# --- Working with Time ---\n",
    "t = datetime.time(9, 30, 45, 100000)\n",
    "print(f\"Time object: {t}\")\n",
    "\n",
    "# --- Working with Datetime ---\n",
    "dt = datetime.datetime(2016, 7, 24, 12, 30, 45, tzinfo=pytz.UTC)\n",
    "print(f\"Datetime with UTC timezone: {dt}\")\n",
    "\n",
    "dt_utcnow = datetime.datetime.now(tz=pytz.UTC)\n",
    "print(f\"Current UTC time (using now): {dt_utcnow}\")\n",
    "\n",
    "dt_utcnow2 = datetime.datetime.utcnow().replace(tzinfo=pytz.UTC)\n",
    "print(f\"Current UTC time (using utcnow): {dt_utcnow2}\")\n",
    "\n",
    "# Convert UTC to a different timezone (e.g., Mountain Time)\n",
    "dt_mtn = dt_utcnow.astimezone(pytz.timezone('US/Mountain'))\n",
    "print(f\"UTC to Mountain Time: {dt_mtn}\")\n",
    "\n",
    "# Localize naive datetime to Mountain Time\n",
    "dt_mtn = datetime.datetime.now()  # Current local time\n",
    "mtn_tz = pytz.timezone('US/Mountain')\n",
    "dt_mtn = mtn_tz.localize(dt_mtn)\n",
    "print(f\"Localized Mountain Time: {dt_mtn}\")\n",
    "\n",
    "# Convert Mountain Time to Eastern Time\n",
    "dt_east = dt_mtn.astimezone(pytz.timezone('US/Eastern'))\n",
    "print(f\"Mountain to Eastern Time: {dt_east}\")\n",
    "\n",
    "# --- Formatting and Parsing Dates ---\n",
    "# Format datetime to string\n",
    "formatted_date = dt_mtn.strftime('%B %d, %Y')\n",
    "print(f\"Formatted date: {formatted_date}\")\n",
    "\n",
    "# Parse string to datetime\n",
    "dt_str = 'July 24, 2016'\n",
    "dt = datetime.datetime.strptime(dt_str, '%B %d, %Y')\n",
    "print(f\"Parsed datetime from string: {dt}\")"
   ]
  },
  {
   "cell_type": "code",
   "execution_count": null,
   "id": "368fe258-6b6c-4474-9a1d-60012c9110a0",
   "metadata": {},
   "outputs": [],
   "source": []
  }
 ],
 "metadata": {
  "kernelspec": {
   "display_name": "Python 3 (ipykernel)",
   "language": "python",
   "name": "python3"
  },
  "language_info": {
   "codemirror_mode": {
    "name": "ipython",
    "version": 3
   },
   "file_extension": ".py",
   "mimetype": "text/x-python",
   "name": "python",
   "nbconvert_exporter": "python",
   "pygments_lexer": "ipython3",
   "version": "3.11.7"
  }
 },
 "nbformat": 4,
 "nbformat_minor": 5
}
